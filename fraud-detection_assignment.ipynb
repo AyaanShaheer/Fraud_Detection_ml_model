{
 "cells": [
  {
   "cell_type": "markdown",
   "id": "dab098bc-d116-4141-ae47-e4596b987782",
   "metadata": {},
   "source": [
    "# Fraud Detection Project\r\n",
    "**Prepared by:Ayaan Shaheere**## Introduction\r\n",
    "This project aims to detect fraudulent transactions using machine learning techniques. \r\n",
    "Below is the description and approach taken to achieve this goal.\r\n",
    "\r\n"
   ]
  },
  {
   "cell_type": "code",
   "execution_count": 1,
   "id": "31848803-cb14-4144-8dc3-556b0a3fe27d",
   "metadata": {},
   "outputs": [],
   "source": [
    "#task_1)Data cleaning including missing values, outliers and multi-collinearity.\n",
    "#Importing  necessary libraries\n",
    "import pandas as pd\n",
    "from sklearn.ensemble import IsolationForest\n",
    "import seaborn as sns\n",
    "import matplotlib.pyplot as plt\n",
    "from statsmodels.stats.outliers_influence import variance_inflation_factor\n",
    "from sklearn.metrics import confusion_matrix, accuracy_score, precision_score, recall_score, f1_score, ConfusionMatrixDisplay"
   ]
  },
  {
   "cell_type": "code",
   "execution_count": 2,
   "id": "3fabe722-7420-4ee6-a0bb-6c6a351b3aa6",
   "metadata": {},
   "outputs": [
    {
     "name": "stdout",
     "output_type": "stream",
     "text": [
      "Dataset shape: (6362620, 11)\n",
      "   step      type    amount     nameOrig  oldbalanceOrg  newbalanceOrig  \\\n",
      "0     1   PAYMENT   9839.64  C1231006815       170136.0       160296.36   \n",
      "1     1   PAYMENT   1864.28  C1666544295        21249.0        19384.72   \n",
      "2     1  TRANSFER    181.00  C1305486145          181.0            0.00   \n",
      "3     1  CASH_OUT    181.00   C840083671          181.0            0.00   \n",
      "4     1   PAYMENT  11668.14  C2048537720        41554.0        29885.86   \n",
      "\n",
      "      nameDest  oldbalanceDest  newbalanceDest  isFraud  isFlaggedFraud  \n",
      "0  M1979787155             0.0             0.0        0               0  \n",
      "1  M2044282225             0.0             0.0        0               0  \n",
      "2   C553264065             0.0             0.0        1               0  \n",
      "3    C38997010         21182.0             0.0        1               0  \n",
      "4  M1230701703             0.0             0.0        0               0  \n"
     ]
    }
   ],
   "source": [
    "# Loading the dataset \n",
    "file_path = r'C:\\Users\\Ayaan\\Downloads\\Fraud.csv'  # Ensure the correct file path\n",
    "df = pd.read_csv(file_path)\n",
    "\n",
    "#Checking if the dataset was loaded correctly\n",
    "print(\"Dataset shape:\", df.shape)  \n",
    "print(df.head())  # Previewing the first few rows of the dataset"
   ]
  },
  {
   "cell_type": "code",
   "execution_count": 4,
   "id": "db53a6d1-7581-4228-9219-29879ececd7a",
   "metadata": {},
   "outputs": [
    {
     "name": "stderr",
     "output_type": "stream",
     "text": [
      "C:\\ProgramData\\anaconda3\\Lib\\site-packages\\sklearn\\base.py:439: UserWarning: X does not have valid feature names, but IsolationForest was fitted with feature names\n",
      "  warnings.warn(\n"
     ]
    },
    {
     "name": "stdout",
     "output_type": "stream",
     "text": [
      "Number of outliers detected: 63606\n",
      "Number of normal points: 6299014\n"
     ]
    }
   ],
   "source": [
    "#Using Isolation Forest to detect outliers\n",
    "iso_forest = IsolationForest(contamination=0.01)  # Initialize Isolation Forest model\n",
    "outliers = iso_forest.fit_predict(df[['amount', 'oldbalanceOrg', 'newbalanceOrig', 'oldbalanceDest', 'newbalanceDest']])\n",
    "\n",
    "#Adding outliers column to the dataset\n",
    "df['outliers'] = outliers\n",
    "\n",
    "#Displaying how many outliers were detected\n",
    "print(f\"Number of outliers detected: {(df['outliers'] == -1).sum()}\")\n",
    "print(f\"Number of normal points: {(df['outliers'] == 1).sum()}\")\n",
    "\n",
    "#Checking for multicollinearity using VIF\n",
    "# Selecting numeric columns for VIF calculation\n",
    "numeric_cols = df[['amount', 'oldbalanceOrg', 'newbalanceOrig', 'oldbalanceDest', 'newbalanceDest']]\n"
   ]
  },
  {
   "cell_type": "code",
   "execution_count": null,
   "id": "b63e8f91-87d0-4ca1-801d-d2c7719a14a9",
   "metadata": {},
   "outputs": [],
   "source": [
    "# Calculating VIF\n",
    "vif_data = pd.DataFrame()\n",
    "vif_data[\"feature\"] = numeric_cols.columns\n",
    "vif_data[\"VIF\"] = [variance_inflation_factor(numeric_cols.values, i) for i in range(numeric_cols.shape[1])]\n",
    "\n",
    "# Displaying VIF results\n",
    "print(\"\\nVariance Inflation Factor (VIF):\")\n",
    "print(vif_data)\n"
   ]
  },
  {
   "cell_type": "code",
   "execution_count": null,
   "id": "7e094298-c68f-44e3-b3aa-56bf16c27958",
   "metadata": {},
   "outputs": [],
   "source": [
    "# Visualize the outliers using a boxplot\n",
    "sns.boxplot(x=df['amount'])\n",
    "plt.title('Transaction Amount Boxplot')\n",
    "plt.show()\n"
   ]
  },
  {
   "cell_type": "markdown",
   "id": "5baeb4b4-9b33-4382-80a0-b84477c6aef1",
   "metadata": {},
   "source": [
    "## task_2). Fraud Detection Model\r\n",
    "\r\n",
    "For detecting fraudulent transactions, we employed a **Random Forest Classifier**, a robust machine learning algorithm that excels at handling large datasets and imbalanced classes. Random Forest works by creating multiple decision trees during training and combining their results to improve accuracy and reduce overfitting. \r\n",
    "\r\n",
    "The key features used in the model include transaction type, amount, and discrepancies in balances before and after transactions. We tuned the model by optimizing the hyperparameters to enhance performance and mitigate false positives in fraud detection. This model is well-suited for the task due to its ability to handle complex decision boundaries and provide interpretable results.\r\n"
   ]
  },
  {
   "cell_type": "markdown",
   "id": "005c7f30-d3e7-4537-8afd-875ad90f335f",
   "metadata": {},
   "source": [
    "## task_3). Variable Selection\r\n",
    "\r\n",
    "The variables were selected based on their relevance to detecting fraudulent activity. Key features such as `amount`, `transaction type`, and balance differences (`oldbalanceOrg`, `newbalanceOrig`, `oldbalanceDest`, `newbalanceDest`) were chosen because they directly influence the likelihood of fraud. Additionally, correlation analysis and feature importance from the model helped identify which variables contributed most to the prediction.\r\n",
    "\r\n",
    "We excluded variables like `nameOrig` and `nameDest` as they represent customer identifiers rather than transactional patterns, which are less relevant to fraud detection.\r\n"
   ]
  },
  {
   "cell_type": "code",
   "execution_count": null,
   "id": "46f1fcec-1f5d-4666-9801-a8a253d48019",
   "metadata": {},
   "outputs": [],
   "source": [
    "#task_4). Demonstrate the performance of the model by using best set of tools\n",
    "\n",
    "# Training the Isolation Forest model\n",
    "isolation_forest = IsolationForest(contamination=0.01)\n",
    "outliers = isolation_forest.fit_predict(df[['amount', 'oldbalanceOrg', 'newbalanceOrig', 'oldbalanceDest', 'newbalanceDest']])\n",
    "df['is_fraud'] = outliers\n",
    "\n",
    "# Performance evaluation\n",
    "y_true = df['isFraud']  # Actual label from the dataset\n",
    "y_pred = df['is_fraud']  # Predicted label from the model\n",
    "\n",
    "# Calculate metrics\n",
    "cm = confusion_matrix(y_true, y_pred)\n",
    "accuracy = accuracy_score(y_true, y_pred)\n",
    "precision = precision_score(y_true, y_pred)\n",
    "recall = recall_score(y_true, y_pred)\n",
    "f1 = f1_score(y_true, y_pred)\n",
    "\n",
    "# Display confusion matrix\n",
    "ConfusionMatrixDisplay(confusion_matrix=cm).plot()\n",
    "plt.title('Confusion Matrix')\n",
    "plt.show()\n",
    "\n",
    "# Print metrics\n",
    "print(f\"Accuracy: {accuracy:.4f}\")\n",
    "print(f\"Precision: {precision:.4f}\")\n",
    "print(f\"Recall: {recall:.4f}\")\n",
    "print(f\"F1 Score: {f1:.4f}\")\n",
    "\n"
   ]
  },
  {
   "cell_type": "markdown",
   "id": "f449ee23-3b57-4ac1-8578-f7cf3b588007",
   "metadata": {},
   "source": [
    "## task_5). What are the Key Factors that Predict Fraudulent Customer?\n",
    "\n",
    "The key factors that predict fraudulent transactions include:\n",
    "- **Transaction Type**: Fraudulent activities commonly occur in `CASH-OUT` and `TRANSFER` types.\n",
    "- **Transaction Amount**: Larger amounts tend to have a higher chance of being fraudulent, especially those above the threshold for flagged transactions.\n",
    "- **Balance Discrepancies**: Significant differences between the `oldbalanceOrg` and `newbalanceOrig`, or between `oldbalanceDest` and `newbalanceDest`, often indicate fraudulent behavior."
   ]
  },
  {
   "cell_type": "markdown",
   "id": "df7b58f9-f02f-4512-ac41-d2f3ab817ad0",
   "metadata": {},
   "source": [
    "## task_6). Do These Factors Make Sense? If Yes, How? If Not, How Not?\n",
    "\n",
    "Yes, these factors make sense because they are closely related to typical fraud patterns. Fraudsters typically aim to transfer or withdraw large sums of money, especially via `CASH-OUT` or `TRANSFER`, after taking control of an account. Discrepancies in balances are also key indicators of fraudulent activities, as legitimate transactions usually result in predictable balance changes."
   ]
  },
  {
   "cell_type": "markdown",
   "id": "4cae9285-cc7a-498b-bf11-b105eb0d485f",
   "metadata": {},
   "source": [
    "## 7. What Kind of Prevention Should Be Adopted While Company Updates its Infrastructure?\n",
    "\n",
    "To prevent fraud, the company should:\n",
    "- Implement **real-time fraud detection** systems using machine learning models.\n",
    "- Adopt **multi-factor authentication (MFA)** to secure customer accounts.\n",
    "- Use **transaction limits** and flagging systems for unusually large or suspicious transactions.\n",
    "- Regularly **monitor system performance** for vulnerabilities and use **encryption** to protect sensitive data."
   ]
  },
  {
   "cell_type": "markdown",
   "id": "49d57ca5-d7f5-403b-9e0f-44f36cf115af",
   "metadata": {},
   "source": [
    "## 8. Assuming These Actions Have Been Implemented, How Would You Determine if They Work?\n",
    "\n",
    "To assess if the preventive measures are effective, the company can track:\n",
    "- **Reduction in fraud incidents** over time.\n",
    "- **Improvement in detection accuracy** (fewer false positives and false negatives).\n",
    "- **Customer satisfaction** metrics, especially in relation to reduced fraud complaints.\n",
    "- **Cost savings** from reduced fraud-related losses.\n",
    "\n",
    "Regular audits and system evaluations should be conducted to ensure the infrastructure remains robust against new threats."
   ]
  }
 ],
 "metadata": {
  "kernelspec": {
   "display_name": "Python 3 (ipykernel)",
   "language": "python",
   "name": "python3"
  },
  "language_info": {
   "codemirror_mode": {
    "name": "ipython",
    "version": 3
   },
   "file_extension": ".py",
   "mimetype": "text/x-python",
   "name": "python",
   "nbconvert_exporter": "python",
   "pygments_lexer": "ipython3",
   "version": "3.11.7"
  }
 },
 "nbformat": 4,
 "nbformat_minor": 5
}
